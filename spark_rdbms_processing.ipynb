{
 "cells": [
  {
   "cell_type": "code",
   "execution_count": 1,
   "id": "a101e4b9-dd2c-4e80-bb35-5ed41bf8ef59",
   "metadata": {},
   "outputs": [],
   "source": [
    "# !pip install findspark"
   ]
  },
  {
   "cell_type": "code",
   "execution_count": 1,
   "id": "f8e9d7e6-e1da-48de-bcf9-589732b8e498",
   "metadata": {},
   "outputs": [],
   "source": [
    "import findspark\n",
    "findspark.init('/usr/local/spark')"
   ]
  },
  {
   "cell_type": "code",
   "execution_count": 2,
   "id": "42b95632-4f66-4c8a-82bf-70f226930ddb",
   "metadata": {},
   "outputs": [],
   "source": [
    "from pyspark.sql import SparkSession"
   ]
  },
  {
   "cell_type": "code",
   "execution_count": 3,
   "id": "8d5371e9-7a17-44fa-a705-7875aed369ae",
   "metadata": {},
   "outputs": [
    {
     "name": "stderr",
     "output_type": "stream",
     "text": [
      "24/04/16 23:34:04 WARN NativeCodeLoader: Unable to load native-hadoop library for your platform... using builtin-java classes where applicable\n",
      "Setting default log level to \"WARN\".\n",
      "To adjust logging level use sc.setLogLevel(newLevel). For SparkR, use setLogLevel(newLevel).\n"
     ]
    }
   ],
   "source": [
    "spark=SparkSession\\\n",
    "    .builder\\\n",
    "    .master(\"spark://master:7077\")\\\n",
    "    .config(\"spark.jars\", \"spark_dependency_jars//ojdbc11.jar\")\\\n",
    "    .appName(\"Spark to Oracle Processing\")\\\n",
    "    .getOrCreate()"
   ]
  },
  {
   "cell_type": "code",
   "execution_count": 4,
   "id": "6f1f3c9d-39d8-4b3d-b436-36805195674c",
   "metadata": {},
   "outputs": [
    {
     "data": {
      "text/html": [
       "\n",
       "            <div>\n",
       "                <p><b>SparkSession - in-memory</b></p>\n",
       "                \n",
       "        <div>\n",
       "            <p><b>SparkContext</b></p>\n",
       "\n",
       "            <p><a href=\"http://master:4040\">Spark UI</a></p>\n",
       "\n",
       "            <dl>\n",
       "              <dt>Version</dt>\n",
       "                <dd><code>v3.5.1</code></dd>\n",
       "              <dt>Master</dt>\n",
       "                <dd><code>spark://master:7077</code></dd>\n",
       "              <dt>AppName</dt>\n",
       "                <dd><code>Spark to Oracle Processing</code></dd>\n",
       "            </dl>\n",
       "        </div>\n",
       "        \n",
       "            </div>\n",
       "        "
      ],
      "text/plain": [
       "<pyspark.sql.session.SparkSession at 0x717c0ba1fa90>"
      ]
     },
     "execution_count": 4,
     "metadata": {},
     "output_type": "execute_result"
    }
   ],
   "source": [
    "spark"
   ]
  },
  {
   "cell_type": "code",
   "execution_count": 5,
   "id": "69a80ced-e348-4dff-bc8d-1a3068f81471",
   "metadata": {},
   "outputs": [],
   "source": [
    "driver=\"oracle.jdbc.driver.OracleDriver\"\n",
    "url = \"jdbc:oracle:thin:@//192.168.78.100:1521/palani6\"\n",
    "user=\"hduser\"\n",
    "passwd=\"hadoop\"\n",
    "table=\"bike_rental_station_events\""
   ]
  },
  {
   "cell_type": "code",
   "execution_count": 6,
   "id": "91c33636-c8c7-4b44-aa30-390d6dfc9e25",
   "metadata": {},
   "outputs": [],
   "source": [
    "table_df=spark.read.format('jdbc')\\\n",
    "        .option(\"driver\", \"oracle.jdbc.driver.OracleDriver\")\\\n",
    "        .option(\"url\", url) \\\n",
    "        .option(\"user\", user) \\\n",
    "        .option(\"password\", passwd) \\\n",
    "        .option(\"dbtable\", table)\\\n",
    "        .load()"
   ]
  },
  {
   "cell_type": "code",
   "execution_count": 7,
   "id": "df055c17-eeff-4cfe-b3ef-dea32341bd15",
   "metadata": {},
   "outputs": [
    {
     "name": "stderr",
     "output_type": "stream",
     "text": [
      "                                                                                \r"
     ]
    },
    {
     "name": "stdout",
     "output_type": "stream",
     "text": [
      "+-------------+-------------+--------------------+-------+------------+----------+\n",
      "|          ENV|           ID|               EVENT|STATION|       Q_LEN|BIKE_COUNT|\n",
      "+-------------+-------------+--------------------+-------+------------+----------+\n",
      "| 0.3869722638| 1.0000000000|has arrived at st...|      A|0.0000000000|   5 bikes|\n",
      "| 1.1336081898| 2.0000000000|has arrived at st...|      A|0.0000000000|   4 bikes|\n",
      "| 1.5565293000| 4.0000000000|has arrived at st...|      A|0.0000000000|   2 bikes|\n",
      "| 1.8669777319| 6.0000000000|has arrived at st...|      B|0.0000000000|   5 bikes|\n",
      "| 1.5249224939| 3.0000000000|has arrived at st...|      A|0.0000000000|   3 bikes|\n",
      "| 1.8316965160| 5.0000000000|has arrived at st...|      A|0.0000000000|   1 bikes|\n",
      "| 4.7438040177|13.0000000000|has arrived at st...|      B|0.0000000000|   5 bikes|\n",
      "| 4.1576102145| 7.0000000000|has arrived at st...|      A|0.0000000000|   2 bikes|\n",
      "| 5.0786745783|15.0000000000|has arrived at st...|      B|0.0000000000|   4 bikes|\n",
      "| 4.2869774574| 8.0000000000|has arrived at st...|      A|0.0000000000|   1 bikes|\n",
      "| 4.3764628407| 9.0000000000|has arrived at st...|      A|0.0000000000|   0 bikes|\n",
      "| 4.5621788915|10.0000000000|has arrived at st...|      A|1.0000000000|   0 bikes|\n",
      "| 4.7006966792|11.0000000000|has arrived at st...|      A|2.0000000000|   0 bikes|\n",
      "|16.2914638006|41.0000000000|has arrived at st...|      B|0.0000000000|  10 bikes|\n",
      "|20.3817438383|49.0000000000|has arrived at st...|      B|0.0000000000|  10 bikes|\n",
      "|22.1543095373|51.0000000000|has arrived at st...|      B|0.0000000000|   9 bikes|\n",
      "|24.3759774118|55.0000000000|has arrived at st...|      B|0.0000000000|   9 bikes|\n",
      "|26.6697810136|63.0000000000|has arrived at st...|      B|0.0000000000|   9 bikes|\n",
      "| 4.7278637806|12.0000000000|has arrived at st...|      A|3.0000000000|   0 bikes|\n",
      "|29.4783712600|72.0000000000|has arrived at st...|      B|0.0000000000|   9 bikes|\n",
      "+-------------+-------------+--------------------+-------+------------+----------+\n",
      "only showing top 20 rows\n",
      "\n"
     ]
    }
   ],
   "source": [
    "table_df.show()"
   ]
  },
  {
   "cell_type": "code",
   "execution_count": 20,
   "id": "596e7bc8-52fe-45f8-9a92-dff00f33aeb6",
   "metadata": {},
   "outputs": [
    {
     "name": "stderr",
     "output_type": "stream",
     "text": [
      "                                                                                \r"
     ]
    },
    {
     "name": "stdout",
     "output_type": "stream",
     "text": [
      "+-------------------+---+--------------------+-------+-----+----------+\n",
      "|                env| id|               event|station|q_len|bike_count|\n",
      "+-------------------+---+--------------------+-------+-----+----------+\n",
      "|0.38697226384132344|  1|has arrived at st...|      A|    0|   5 bikes|\n",
      "| 1.1336081898341615|  2|has arrived at st...|      A|    0|   4 bikes|\n",
      "|  1.556529300023573|  4|has arrived at st...|      A|    0|   2 bikes|\n",
      "| 1.8669777318902117|  6|has arrived at st...|      B|    0|   5 bikes|\n",
      "| 1.5249224939113988|  3|has arrived at st...|      A|    0|   3 bikes|\n",
      "| 1.8316965159790086|  5|has arrived at st...|      A|    0|   1 bikes|\n",
      "| 4.7438040177186735| 13|has arrived at st...|      B|    0|   5 bikes|\n",
      "| 4.1576102145237215|  7|has arrived at st...|      A|    0|   2 bikes|\n",
      "|  5.078674578267292| 15|has arrived at st...|      B|    0|   4 bikes|\n",
      "|  4.286977457434506|  8|has arrived at st...|      A|    0|   1 bikes|\n",
      "|  4.376462840745697|  9|has arrived at st...|      A|    0|   0 bikes|\n",
      "|  4.562178891465352| 10|has arrived at st...|      A|    1|   0 bikes|\n",
      "|  4.700696679187875| 11|has arrived at st...|      A|    2|   0 bikes|\n",
      "| 16.291463800558514| 41|has arrived at st...|      B|    0|  10 bikes|\n",
      "| 20.381743838284116| 49|has arrived at st...|      B|    0|  10 bikes|\n",
      "| 22.154309537342225| 51|has arrived at st...|      B|    0|   9 bikes|\n",
      "|  24.37597741175743| 55|has arrived at st...|      B|    0|   9 bikes|\n",
      "| 26.669781013565654| 63|has arrived at st...|      B|    0|   9 bikes|\n",
      "| 4.7278637806265165| 12|has arrived at st...|      A|    3|   0 bikes|\n",
      "|  29.47837125995121| 72|has arrived at st...|      B|    0|   9 bikes|\n",
      "+-------------------+---+--------------------+-------+-----+----------+\n",
      "only showing top 20 rows\n",
      "\n"
     ]
    }
   ],
   "source": [
    "csv_df = spark.read.option(\"delimiter\", \",\").option(\"header\", True).csv(\"/user/yogov/event_generator.csv\")\n",
    "csv_df.show()"
   ]
  },
  {
   "cell_type": "code",
   "execution_count": 21,
   "id": "86fcdf60-bfe7-4741-9b5b-736ca5f6c2ba",
   "metadata": {},
   "outputs": [
    {
     "data": {
      "text/plain": [
       "410"
      ]
     },
     "execution_count": 21,
     "metadata": {},
     "output_type": "execute_result"
    }
   ],
   "source": [
    "csv_df.count()"
   ]
  },
  {
   "cell_type": "code",
   "execution_count": 25,
   "id": "e572ab20-7048-4690-a75c-a39d396f5dd3",
   "metadata": {},
   "outputs": [
    {
     "name": "stderr",
     "output_type": "stream",
     "text": [
      "                                                                                \r"
     ]
    }
   ],
   "source": [
    "csv_df.write\\\n",
    "        .format('jdbc')\\\n",
    "        .option(\"driver\", \"oracle.jdbc.OracleDriver\")\\\n",
    "        .option(\"url\", url) \\\n",
    "        .option(\"user\", user) \\\n",
    "        .option(\"password\", passwd) \\\n",
    "        .mode(\"append\") \\\n",
    "        .option(\"CreateTableOptions\", '') \\\n",
    "        .option(\"dbtable\", table) \\\n",
    "        .save()"
   ]
  }
 ],
 "metadata": {
  "kernelspec": {
   "display_name": "Python 3 (ipykernel)",
   "language": "python",
   "name": "python3"
  },
  "language_info": {
   "codemirror_mode": {
    "name": "ipython",
    "version": 3
   },
   "file_extension": ".py",
   "mimetype": "text/x-python",
   "name": "python",
   "nbconvert_exporter": "python",
   "pygments_lexer": "ipython3",
   "version": "3.11.7"
  }
 },
 "nbformat": 4,
 "nbformat_minor": 5
}
